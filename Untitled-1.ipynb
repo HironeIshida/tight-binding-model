{
 "cells": [
  {
   "cell_type": "code",
   "execution_count": null,
   "metadata": {},
   "outputs": [],
   "source": [
    "using Plots"
   ]
  },
  {
   "cell_type": "code",
   "execution_count": null,
   "metadata": {},
   "outputs": [],
   "source": [
    "N=100000 #kの刻み\n",
    "M=1000 #epsilonの刻み\n",
    "\n",
    "d=range(-2,2,length=M)"
   ]
  },
  {
   "cell_type": "markdown",
   "metadata": {},
   "source": [
    "分割数の定義とエネルギー軸の分割．"
   ]
  },
  {
   "cell_type": "code",
   "execution_count": null,
   "metadata": {},
   "outputs": [],
   "source": [
    "function EK(k)\n",
    "    return -2*cos(k)\n",
    "end\n",
    "\n",
    "k=range(-π,π,length=N)\n",
    "Ek=EK.(k)"
   ]
  },
  {
   "cell_type": "markdown",
   "metadata": {},
   "source": [
    "分散関係の定義し，ブリルアンゾーン内の値を配列にする．"
   ]
  },
  {
   "cell_type": "code",
   "execution_count": null,
   "metadata": {},
   "outputs": [],
   "source": [
    "function D(E)\n",
    "    return (1/π)*(1/sqrt(4-E*E))\n",
    "end\n",
    "\n",
    "Ds = D.(d)"
   ]
  },
  {
   "cell_type": "markdown",
   "metadata": {},
   "source": [
    "手計算で得た状態密度の定義し，"
   ]
  },
  {
   "cell_type": "code",
   "execution_count": null,
   "metadata": {},
   "outputs": [],
   "source": [
    "function count_bins(xmin,xmax,n,data)\n",
    "    d=range(xmin,xmax,length=n)\n",
    "    count=zeros(Int64,n)\n",
    "\n",
    "    Delta=(xmax-xmin+1)/n\n",
    "\n",
    "    for i in data\n",
    "        e=convert(Int64,ceil((i-xmin)/Delta))\n",
    "        count[e+1] += 1\n",
    "    end\n",
    "\n",
    "    return count\n",
    "end"
   ]
  },
  {
   "cell_type": "markdown",
   "metadata": {},
   "source": [
    "ヒストグラムを作る関数．$ x_{\\rm min} $ 以上 $ x_{\\rm max} $ 以下の範囲を $ n $ 分割して，分割した各区画に配列detaの要素を格納し，各区画の度数を要素に持つ配列を返す関数．"
   ]
  },
  {
   "cell_type": "code",
   "execution_count": null,
   "metadata": {},
   "outputs": [],
   "source": [
    "d=range(1,10,length=10)\n",
    "println(d)"
   ]
  },
  {
   "cell_type": "code",
   "execution_count": null,
   "metadata": {},
   "outputs": [],
   "source": [
    "A=[1,2,3,6,4,1,2,3,5,7,4,3,4,6,1,10,10,2,4,9]\n",
    "count_bins(1,10,10,A)"
   ]
  },
  {
   "cell_type": "code",
   "execution_count": null,
   "metadata": {},
   "outputs": [],
   "source": [
    "count_bins(-2,2,M,Ek)"
   ]
  },
  {
   "cell_type": "code",
   "execution_count": null,
   "metadata": {},
   "outputs": [],
   "source": [
    "Delta = 4 / M"
   ]
  },
  {
   "cell_type": "code",
   "execution_count": null,
   "metadata": {},
   "outputs": [],
   "source": [
    "for i in 1:M-1\n",
    "    j=epsilon[i]\n",
    "    x=convert(Int64,ceil((j+2)/Delta))\n",
    "    count[x+1] += 1\n",
    "end"
   ]
  },
  {
   "cell_type": "code",
   "execution_count": null,
   "metadata": {},
   "outputs": [],
   "source": [
    "plot(epsilon,count)\n",
    "savefig(\"DOS-def\")"
   ]
  }
 ],
 "metadata": {
  "kernelspec": {
   "display_name": "Julia 1.7.2",
   "language": "julia",
   "name": "julia-1.7"
  },
  "language_info": {
   "file_extension": ".jl",
   "mimetype": "application/julia",
   "name": "julia",
   "version": "1.7.2"
  },
  "orig_nbformat": 4
 },
 "nbformat": 4,
 "nbformat_minor": 2
}
